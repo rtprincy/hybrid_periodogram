{
 "cells": [
  {
   "cell_type": "code",
   "execution_count": 1,
   "id": "a618f1bd-dacc-437d-b36f-c648b27e9a56",
   "metadata": {},
   "outputs": [],
   "source": [
    "from astropy.timeseries import LombScargle\n",
    "import numpy as np\n",
    "import pandas as pd\n",
    "import time\n",
    "from astropy import time, coordinates as coord, units as u\n",
    "import matplotlib.pyplot as plt"
   ]
  },
  {
   "cell_type": "code",
   "execution_count": 2,
   "id": "01ef2ca3-3638-466a-84bf-461c21999887",
   "metadata": {},
   "outputs": [],
   "source": [
    "from lk_stat_package import lk_stat"
   ]
  },
  {
   "cell_type": "code",
   "execution_count": 3,
   "id": "7b3a5aec-5790-420a-853a-651cff316182",
   "metadata": {},
   "outputs": [],
   "source": [
    "def correct_time(df,mjd_col,ra_col,dec_col,site='saao'):\n",
    "    ip_peg = coord.SkyCoord(df[ra_col].values,df[dec_col].values,\n",
    "                            unit=(u.deg, u.deg), frame='icrs')\n",
    "    saao = coord.EarthLocation.of_site(site)\n",
    "    times = time.Time(list(df[mjd_col]), format='mjd',\n",
    "                      scale='tt', location=saao) \n",
    "    ltt_bary = times.light_travel_time(ip_peg,'barycentric')  \n",
    "    time_barycentre = times.tdb + ltt_bary\n",
    "    df.loc[:,'bct']=time_barycentre.jd\n",
    "    \n",
    "    return df"
   ]
  },
  {
   "cell_type": "code",
   "execution_count": 4,
   "id": "978936db-e58c-4183-afe8-f67beda32a2a",
   "metadata": {},
   "outputs": [],
   "source": [
    "def freq_grid(times,oversampling_factor,f0=None,fn=None):\n",
    "    times=np.sort(times)\n",
    "    tbase=(times.max() - times.min())\n",
    "    df = 1.0 / tbase\n",
    "    if f0 is None:\n",
    "        f0 = df\n",
    "    if fn is None:\n",
    "        fn = 0.5 / np.mean(np.diff(times)) \n",
    "    return np.arange(f0, fn, 1/(tbase * oversampling_factor))"
   ]
  },
  {
   "cell_type": "code",
   "execution_count": 5,
   "id": "09fd0c57-32ad-413d-ad01-62f2aaa5541d",
   "metadata": {},
   "outputs": [],
   "source": [
    "def remove_outliers(df,filters,mag_col,filter_col,magerr_col1,magerr_col2=None):\n",
    "    dframe=pd.DataFrame()\n",
    "    for Filter in filters:\n",
    "        \n",
    "        temp=df[df[filter_col]==Filter]\n",
    "        if magerr_col2==None:\n",
    "            err=df[magerr_col1].values\n",
    "            temp['mag_err']=err\n",
    "        else:\n",
    "            err_1=df[magerr_col1].values\n",
    "            err_2=df[magerr_col2].values\n",
    "            err=np.sqrt((err_1**2) + (err_2**2))\n",
    "            temp['mag_err']=err\n",
    "        \n",
    "        q3_err, q1_err = np.percentile(err, [75 ,25])\n",
    "        iqr_err=q3_err-q1_err\n",
    "        h_err=q3_err+iqr_err*1.5\n",
    "            \n",
    "        temp=temp[temp['mag_err']<=h_err]\n",
    "                \n",
    "        dframe=pd.concat([dframe,temp])\n",
    "        \n",
    "    return dframe"
   ]
  },
  {
   "cell_type": "code",
   "execution_count": 28,
   "id": "52a67df3-7b11-4784-8688-d158c47be5c4",
   "metadata": {},
   "outputs": [],
   "source": [
    "data=pd.read_csv(\"5829829973018664448_ml.csv\")"
   ]
  },
  {
   "cell_type": "code",
   "execution_count": 29,
   "id": "5c4330be-0767-4fee-984c-6c48a83bafbf",
   "metadata": {},
   "outputs": [
    {
     "data": {
      "text/plain": [
       "Index(['ra', 'dec', 'NUMBER_IN', 'FILENAME', 'X_POS', 'Y_POS', 'MJD-OBS',\n",
       "       'OBJECT', 'FILTER', 'EXPTIME', 'S-SEEING', 'AIRMASS', 'PC-ZP',\n",
       "       'PC-ZPSTD', 'QC-FLAG', 'FLAGS_MASK', 'BACKGROUND', 'MAG_OPT',\n",
       "       'MAGERR_OPT', 'SNR_OPT', 'LIMMAG_OPT', 'FNU_OPT', 'FNUERR_OPT',\n",
       "       'MAG_APER_R0.66xFWHM', 'MAGERR_APER_R0.66xFWHM', 'SNR_APER_R0.66xFWHM',\n",
       "       'FNU_APER_R0.66xFWHM', 'FNUERR_APER_R0.66xFWHM', 'MAG_APER_R1.5xFWHM',\n",
       "       'MAGERR_APER_R1.5xFWHM', 'SNR_APER_R1.5xFWHM', 'FNU_APER_R1.5xFWHM',\n",
       "       'FNUERR_APER_R1.5xFWHM', 'MAG_APER_R5xFWHM', 'MAGERR_APER_R5xFWHM',\n",
       "       'SNR_APER_R5xFWHM', 'FNU_APER_R5xFWHM', 'FNUERR_APER_R5xFWHM'],\n",
       "      dtype='object')"
      ]
     },
     "execution_count": 29,
     "metadata": {},
     "output_type": "execute_result"
    }
   ],
   "source": [
    "data.columns"
   ]
  },
  {
   "cell_type": "code",
   "execution_count": 30,
   "id": "767e1ab6-21ca-4a98-ab45-3e10cbf12ffa",
   "metadata": {},
   "outputs": [
    {
     "data": {
      "text/plain": [
       "QC-FLAG\n",
       "yellow    3426\n",
       "orange    1312\n",
       "green      120\n",
       "Name: count, dtype: int64"
      ]
     },
     "execution_count": 30,
     "metadata": {},
     "output_type": "execute_result"
    }
   ],
   "source": [
    "data['QC-FLAG'].value_counts()"
   ]
  },
  {
   "cell_type": "code",
   "execution_count": 31,
   "id": "2d92bcf1-125d-4741-92d3-9f44c94a06f3",
   "metadata": {},
   "outputs": [],
   "source": [
    "data=data[data['QC-FLAG']!=\"red\"]"
   ]
  },
  {
   "cell_type": "code",
   "execution_count": 32,
   "id": "0d286c21-0092-4eb1-ba8b-a3b29259bdfc",
   "metadata": {},
   "outputs": [
    {
     "data": {
      "text/plain": [
       "FILTER\n",
       "q    1728\n",
       "u    1680\n",
       "i    1450\n",
       "Name: count, dtype: int64"
      ]
     },
     "execution_count": 32,
     "metadata": {},
     "output_type": "execute_result"
    }
   ],
   "source": [
    "data['FILTER'].value_counts()"
   ]
  },
  {
   "cell_type": "code",
   "execution_count": 11,
   "id": "03624aaf-dce2-46a8-9d1c-1ee093e9e3aa",
   "metadata": {},
   "outputs": [],
   "source": [
    "dataq=data[data['FILTER']=='q']"
   ]
  },
  {
   "cell_type": "code",
   "execution_count": 12,
   "id": "c46c0c77-514a-4dc5-b901-8635588c4bd1",
   "metadata": {},
   "outputs": [
    {
     "name": "stderr",
     "output_type": "stream",
     "text": [
      "/tmp/ipykernel_3432329/3659649405.py:9: SettingWithCopyWarning: \n",
      "A value is trying to be set on a copy of a slice from a DataFrame.\n",
      "Try using .loc[row_indexer,col_indexer] = value instead\n",
      "\n",
      "See the caveats in the documentation: https://pandas.pydata.org/pandas-docs/stable/user_guide/indexing.html#returning-a-view-versus-a-copy\n",
      "  df.loc[:,'bct']=time_barycentre.jd\n"
     ]
    }
   ],
   "source": [
    "dataq=correct_time(dataq,mjd_col='MJD-OBS',ra_col='ra',dec_col='dec',site='saao')"
   ]
  },
  {
   "cell_type": "code",
   "execution_count": 13,
   "id": "f0411825-cda1-411d-9586-ed5f2427fdaf",
   "metadata": {},
   "outputs": [
    {
     "data": {
      "text/plain": [
       "Index(['bct'], dtype='object')"
      ]
     },
     "execution_count": 13,
     "metadata": {},
     "output_type": "execute_result"
    }
   ],
   "source": [
    "dataq.iloc[:,-1:].columns"
   ]
  },
  {
   "cell_type": "code",
   "execution_count": 14,
   "id": "7a44dbe7-6ca7-48ae-adf3-c049fef68425",
   "metadata": {},
   "outputs": [],
   "source": [
    "rm_outliers=True\n",
    "if rm_outliers:\n",
    "    dataq_clean=remove_outliers(dataq,filters='q',mag_col='MAG_OPT',\n",
    "                            filter_col='FILTER',magerr_col1='MAGERR_OPT',magerr_col2='PC-ZPSTD')\n",
    "else: \n",
    "    dataq['mag_err']=np.sqrt(data['MAGERR_OPT']**2+data['PC-ZPSTD']**2)\n",
    "    data_clean=dataq"
   ]
  },
  {
   "cell_type": "code",
   "execution_count": 15,
   "id": "91b7aa4d-7408-4331-9ea0-ed90c8f33f51",
   "metadata": {},
   "outputs": [
    {
     "data": {
      "text/plain": [
       "Index(['bct', 'mag_err'], dtype='object')"
      ]
     },
     "execution_count": 15,
     "metadata": {},
     "output_type": "execute_result"
    }
   ],
   "source": [
    "dataq_clean.iloc[:,-2:].columns"
   ]
  },
  {
   "cell_type": "code",
   "execution_count": 16,
   "id": "199ae909-9467-47bf-aa4d-6fbed7c6c059",
   "metadata": {},
   "outputs": [
    {
     "data": {
      "text/plain": [
       "FILTER\n",
       "q    1717\n",
       "Name: count, dtype: int64"
      ]
     },
     "execution_count": 16,
     "metadata": {},
     "output_type": "execute_result"
    }
   ],
   "source": [
    "dataq_clean['FILTER'].value_counts()"
   ]
  },
  {
   "cell_type": "code",
   "execution_count": 17,
   "id": "6b6a38f6-2315-42de-b5ac-b15b10ce9182",
   "metadata": {},
   "outputs": [],
   "source": [
    "mag=dataq_clean['MAG_OPT'].values\n",
    "magerr=dataq_clean['mag_err'].values\n",
    "Time=dataq_clean['bct'].values\n",
    "Time=Time - np.median(Time)"
   ]
  },
  {
   "cell_type": "code",
   "execution_count": 18,
   "id": "a58b2140-258b-4e77-a966-0096d1c6a2d4",
   "metadata": {},
   "outputs": [],
   "source": [
    "frequencies=freq_grid(times=Time, oversampling_factor=5,\n",
    "                                      f0=None,fn=50)\n",
    "                \n",
    "                      \n",
    "periods=1/frequencies"
   ]
  },
  {
   "cell_type": "code",
   "execution_count": 19,
   "id": "e88016a0-4c83-4799-96db-ffc1558ea760",
   "metadata": {},
   "outputs": [
    {
     "data": {
      "text/plain": [
       "(482461,)"
      ]
     },
     "execution_count": 19,
     "metadata": {},
     "output_type": "execute_result"
    }
   ],
   "source": [
    "frequencies.shape"
   ]
  },
  {
   "cell_type": "code",
   "execution_count": 20,
   "id": "caae4ac8-0be0-42f5-98b5-90bf7c7c77b2",
   "metadata": {},
   "outputs": [],
   "source": [
    "\n",
    "\n",
    "lsp = LombScargle(t=Time, y=mag, dy=magerr,nterms=1).power(frequency=frequencies, method=\"cython\", normalization=\"psd\")\n",
    "\n",
    "\n",
    "theta=lk_stat(periods,mag,magerr,Time)\n",
    "\n",
    "\n",
    "psi=(2*lsp)/theta\n",
    "\n"
   ]
  },
  {
   "cell_type": "code",
   "execution_count": 22,
   "id": "0f058b64-60de-4269-90b9-aa6bbddd4da1",
   "metadata": {},
   "outputs": [],
   "source": [
    "psi_norm=psi/psi.max()\n",
    "best_freq=frequencies[np.argmax(psi_norm)]\n",
    "period_est=1/best_freq\n",
    "qphase=(Time/period_est)%1"
   ]
  },
  {
   "cell_type": "code",
   "execution_count": 39,
   "id": "8f5c682d-30a6-4c64-b69d-31f33c943807",
   "metadata": {},
   "outputs": [
    {
     "data": {
      "image/png": "[encoded data removed]",
      "text/plain": [
       "<Figure size 720x648 with 2 Axes>"
      ]
     },
     "metadata": {
      "needs_background": "light"
     },
     "output_type": "display_data"
    }
   ],
   "source": [
    "fig = plt.figure(figsize=[10,9])\n",
    "\n",
    "ax = fig.add_subplot(2, 1, 1)\n",
    "\n",
    "ax.plot(frequencies,psi_norm)\n",
    "\n",
    "ax.set_xlabel(r'Frequency $\\rm d^{-1}$',fontsize=18)\n",
    "ax.set_ylabel(r'$\\Psi$',fontsize=18)\n",
    "ax.plot(best_freq,psi_norm.max(),'o')\n",
    "ax.minorticks_on()\n",
    "ax.tick_params('both', length=8, width=1., which='major', direction='in')\n",
    "ax.tick_params('both', length=3, width=1, which='minor', direction='in')\n",
    "\n",
    "ax = fig.add_subplot(2, 1, 2)\n",
    "\n",
    "ax.set_title('Period: %.5f d'%(period_est),fontsize=15)\n",
    "ax.errorbar(qphase,mag,yerr=magerr,fmt='ok',alpha=0.5,label='q')\n",
    "ax.errorbar(qphase+1,mag,yerr=magerr,fmt='ok',alpha=0.5)\n",
    "ax.set_ylim([13.5,14])\n",
    "ax.set_ylabel('Magnitude',fontsize=18)\n",
    "ax.set_xlabel('Phase',fontsize=18)\n",
    "\n",
    "ax.legend(loc='best',fontsize=15)\n",
    "            \n",
    "ax.minorticks_on()\n",
    "ax.tick_params('both', length=8, width=1., which='major', direction='in')\n",
    "ax.tick_params('both', length=3, width=1, which='minor', direction='in')\n",
    "ax.legend()\n",
    "plt.tight_layout(pad=2)\n",
    "plt.gca().invert_yaxis()\n"
   ]
  },
  {
   "cell_type": "code",
   "execution_count": null,
   "id": "2cfc4a68-cf40-4855-89a3-1ebf897fc0e1",
   "metadata": {},
   "outputs": [],
   "source": []
  }
 ],
 "metadata": {
  "kernelspec": {
   "display_name": "tahina_py3.9.7",
   "language": "python",
   "name": "tahina_py3.9.7"
  },
  "language_info": {
   "codemirror_mode": {
    "name": "ipython",
    "version": 3
   },
   "file_extension": ".py",
   "mimetype": "text/x-python",
   "name": "python",
   "nbconvert_exporter": "python",
   "pygments_lexer": "ipython3",
   "version": "3.9.7"
  }
 },
 "nbformat": 4,
 "nbformat_minor": 5
}
